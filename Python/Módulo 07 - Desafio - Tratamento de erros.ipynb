{
  "nbformat": 4,
  "nbformat_minor": 0,
  "metadata": {
    "colab": {
      "provenance": []
    },
    "kernelspec": {
      "name": "python3",
      "display_name": "Python 3"
    },
    "language_info": {
      "name": "python"
    }
  },
  "cells": [
    {
      "cell_type": "markdown",
      "source": [
        "Chegou o momento de você se superar! Você está finalizando o sétimo módulo, por esse motivo, seus conhecimentos adquiridos até aqui equivalem ao nível intermediário de Python.\n",
        "\n",
        "Desafio:\n",
        "\n",
        "Desenvolva um gerador de tabuada, capaz de gerar a tabuada de qualquer número inteiro entre 1 a 10. O usuário deve informar de qual número ele deseja ver a tabuada.\n",
        "\n",
        "Lembre-se de que você já conhece o nível intermediário da linguagem de programação Python, além de conhecer como automatizar dados por meio da programação funcional e programação orientada a objetos.\n",
        "\n",
        "Após resolver o desafio, preencha o checklist a seguir.\n",
        "---\n",
        "\n"
      ],
      "metadata": {
        "id": "XrDtC5wViCWd"
      }
    },
    {
      "cell_type": "code",
      "source": [
        "## Definir a função que gera a tabuada baseada no número informado:\n",
        "\n",
        "def gerar_tabuada(numero: int):\n",
        "  print(f'Tabuada do {numero}:')\n",
        "  for i in range (0,11):\n",
        "    print(f'{numero} x {i} = {numero * i}')\n",
        "\n",
        "## Perguntar ao usuário qual número ele escolhe:\n",
        "try:\n",
        "  numero = int(input('Digite um número inteiro entre 1 e 10 que eu te mostro a tabuada dele:'))\n",
        "  if 1 <= numero <= 10:\n",
        "    gerar_tabuada(numero)\n",
        "  else:\n",
        "    print('Por favor, digite um núemro inteiro entre 1 e 10.')\n",
        "except ValueError:\n",
        "  print('Entrada inválida. Por favor, digite um número inteiro.')\n",
        "\n"
      ],
      "metadata": {
        "colab": {
          "base_uri": "https://localhost:8080/"
        },
        "id": "-zYfHBSIiVXd",
        "outputId": "99e48134-deb9-4656-e323-5c76aeb18448"
      },
      "execution_count": null,
      "outputs": [
        {
          "output_type": "stream",
          "name": "stdout",
          "text": [
            "Digite um número inteiro entre 1 e 10 que eu te mostro a tabuada dele:9\n",
            "Tabuada do 9:\n",
            "9 x 0 = 0\n",
            "9 x 1 = 9\n",
            "9 x 2 = 18\n",
            "9 x 3 = 27\n",
            "9 x 4 = 36\n",
            "9 x 5 = 45\n",
            "9 x 6 = 54\n",
            "9 x 7 = 63\n",
            "9 x 8 = 72\n",
            "9 x 9 = 81\n",
            "9 x 10 = 90\n"
          ]
        }
      ]
    }
  ]
}