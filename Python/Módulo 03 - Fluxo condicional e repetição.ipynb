{
  "cells": [
    {
      "cell_type": "markdown",
      "metadata": {
        "id": "KJqp9AANOCtf"
      },
      "source": [
        "<img src=\"https://raw.githubusercontent.com/andre-marcos-perez/ebac-course-utils/main/media/logo/newebac_logo_black_half.png\" alt=\"ebac-logo\">\n",
        "\n",
        "---\n",
        "\n",
        "# **Módulo** | Python: Fluxo Condicional & Repetição\n",
        "Caderno de **Exercícios**<br>\n",
        "Professor [André Perez](https://www.linkedin.com/in/andremarcosperez/)\n",
        "\n",
        "---"
      ]
    },
    {
      "cell_type": "markdown",
      "metadata": {
        "id": "d9jDtUbDOE1-"
      },
      "source": [
        "# **Tópicos**\n",
        "\n",
        "<ol type=\"1\">\n",
        "  <li>Estrutura condicional if / else / elif;</li>\n",
        "  <li>Estrutura condicional try / catch / finally;</li>\n",
        "  <li>Estrutura de repetição for / in.</li>\n",
        "</ol>"
      ]
    },
    {
      "cell_type": "markdown",
      "metadata": {
        "id": "SmoHgt-lwkpD"
      },
      "source": [
        "---"
      ]
    },
    {
      "cell_type": "markdown",
      "metadata": {
        "id": "GABI6OW8OfQ2"
      },
      "source": [
        "# **Exercícios**"
      ]
    },
    {
      "cell_type": "markdown",
      "metadata": {
        "id": "alcB9Hx-5LEV"
      },
      "source": [
        "## 1\\. Estrutura condicional for / in"
      ]
    },
    {
      "cell_type": "markdown",
      "metadata": {
        "id": "rwA9WB0V5LEV"
      },
      "source": [
        "Na lista `propaganda_online` abaixo, estão presente os dados de usuários que acessaram um determinado site e se o mesmo clicou em uma propaganda."
      ]
    },
    {
      "cell_type": "code",
      "execution_count": 2,
      "metadata": {
        "id": "OZnMxwiz5LEV"
      },
      "outputs": [],
      "source": [
        "propaganda_online = [\n",
        "  {'tempo_gasto_site': 68.95, 'idade': 35, 'renda_area': 61833.90, 'tempo_gasto_internet': 256.09, 'cidade': 'Wrightburgh', 'pais': 'Tunisia', 'clicou_no_ad': 0},\n",
        "  {'tempo_gasto_site': 80.23, 'idade': 31, 'renda_area': 68441.85, 'tempo_gasto_internet': 193.77, 'cidade': 'West Jodi', 'pais': 'Nauru', 'clicou_no_ad': 0},\n",
        "  {'tempo_gasto_site': 69.47, 'idade': 26, 'renda_area': 59785.94, 'tempo_gasto_internet': 236.50, 'cidade': 'Davidton', 'pais': 'San Marino', 'clicou_no_ad': 0},\n",
        "  {'tempo_gasto_site': 68.37, 'idade': 35, 'renda_area': 73889.99, 'tempo_gasto_internet': 225.58, 'cidade': 'South Manuel', 'pais': 'Iceland', 'clicou_no_ad': 0},\n",
        "  {'tempo_gasto_site': 88.91, 'idade': 33, 'renda_area': 53852.85, 'tempo_gasto_internet': 208.36, 'cidade': 'Brandonstad', 'pais': 'Myanmar', 'clicou_no_ad': 0},\n",
        "  {'tempo_gasto_site': None, 'idade': 48, 'renda_area': 24593.33, 'tempo_gasto_internet': 131.76, 'cidade': 'Port Jefferybury', 'pais': 'Australia', 'clicou_no_ad': 1},\n",
        "  {'tempo_gasto_site': 74.53, 'idade': 30, 'renda_area': 68862.00, 'tempo_gasto_internet': 221.51, 'cidade': 'West Colin', 'pais': 'Grenada'},\n",
        "  {'tempo_gasto_site': 69.88, 'idade': 20, 'renda_area': 55642.32, 'tempo_gasto_internet': 183.82, 'cidade': 'Ramirezton', 'pais': 'Ghana', 'clicou_no_ad': 0}\n",
        "]"
      ]
    },
    {
      "cell_type": "code",
      "execution_count": 3,
      "metadata": {
        "id": "cyMWqs_t8pWA",
        "outputId": "df150b2f-0922-47aa-a157-caafe4647450",
        "colab": {
          "base_uri": "https://localhost:8080/"
        }
      },
      "outputs": [
        {
          "output_type": "stream",
          "name": "stdout",
          "text": [
            "{'tempo_gasto_site': 68.95, 'idade': 35, 'renda_area': 61833.9, 'tempo_gasto_internet': 256.09, 'cidade': 'Wrightburgh', 'pais': 'Tunisia', 'clicou_no_ad': 0}\n",
            "{'tempo_gasto_site': 80.23, 'idade': 31, 'renda_area': 68441.85, 'tempo_gasto_internet': 193.77, 'cidade': 'West Jodi', 'pais': 'Nauru', 'clicou_no_ad': 0}\n",
            "{'tempo_gasto_site': 69.47, 'idade': 26, 'renda_area': 59785.94, 'tempo_gasto_internet': 236.5, 'cidade': 'Davidton', 'pais': 'San Marino', 'clicou_no_ad': 0}\n",
            "{'tempo_gasto_site': 68.37, 'idade': 35, 'renda_area': 73889.99, 'tempo_gasto_internet': 225.58, 'cidade': 'South Manuel', 'pais': 'Iceland', 'clicou_no_ad': 0}\n",
            "{'tempo_gasto_site': 88.91, 'idade': 33, 'renda_area': 53852.85, 'tempo_gasto_internet': 208.36, 'cidade': 'Brandonstad', 'pais': 'Myanmar', 'clicou_no_ad': 0}\n",
            "{'tempo_gasto_site': None, 'idade': 48, 'renda_area': 24593.33, 'tempo_gasto_internet': 131.76, 'cidade': 'Port Jefferybury', 'pais': 'Australia', 'clicou_no_ad': 1}\n",
            "{'tempo_gasto_site': 74.53, 'idade': 30, 'renda_area': 68862.0, 'tempo_gasto_internet': 221.51, 'cidade': 'West Colin', 'pais': 'Grenada'}\n",
            "{'tempo_gasto_site': 69.88, 'idade': 20, 'renda_area': 55642.32, 'tempo_gasto_internet': 183.82, 'cidade': 'Ramirezton', 'pais': 'Ghana', 'clicou_no_ad': 0}\n"
          ]
        }
      ],
      "source": [
        "for dado_de_usuario in propaganda_online:\n",
        "  print(dado_de_usuario)"
      ]
    },
    {
      "cell_type": "markdown",
      "metadata": {
        "id": "3hfaj4oo5LEX"
      },
      "source": [
        "1.1. Imprime os seguintes valores da lista:\n",
        "`tempo_gasto_site` e `idade`\n",
        "\n",
        "Dica: Utilize os conceitos de chave e valor de elementos de uma lista para selecionar os valores de uma chave (lista[chave]), conforme exemplo abaixo, na qual imprime somente os dados da chave `cidade`:"
      ]
    },
    {
      "cell_type": "code",
      "source": [
        "# Solução: 1.1. Imprime os seguintes valores da lista: tempo_gasto_site e idade\n",
        "\n",
        "for dado_de_usuario in propaganda_online:\n",
        "    print(dado_de_usuario['tempo_gasto_site'], dado_de_usuario['idade'])\n",
        "    print('\\n')"
      ],
      "metadata": {
        "colab": {
          "base_uri": "https://localhost:8080/"
        },
        "id": "gZy3d6uJulwp",
        "outputId": "62f35d03-e95f-4bdd-c37c-ac8189bcf387"
      },
      "execution_count": 6,
      "outputs": [
        {
          "output_type": "stream",
          "name": "stdout",
          "text": [
            "68.95 35\n",
            "\n",
            "\n",
            "80.23 31\n",
            "\n",
            "\n",
            "69.47 26\n",
            "\n",
            "\n",
            "68.37 35\n",
            "\n",
            "\n",
            "88.91 33\n",
            "\n",
            "\n",
            "None 48\n",
            "\n",
            "\n",
            "74.53 30\n",
            "\n",
            "\n",
            "69.88 20\n",
            "\n",
            "\n"
          ]
        }
      ]
    },
    {
      "cell_type": "code",
      "execution_count": null,
      "metadata": {
        "id": "9xWI4Q5v5LEX",
        "outputId": "cc4e4c65-3749-44ec-8815-9260bc5ee431"
      },
      "outputs": [
        {
          "name": "stdout",
          "output_type": "stream",
          "text": [
            "Wrightburgh\n",
            "West Jodi\n",
            "Davidton\n",
            "South Manuel\n",
            "Brandonstad\n",
            "Port Jefferybury\n",
            "West Colin\n",
            "Ramirezton\n"
          ]
        }
      ],
      "source": [
        "for dado_de_usuario in propaganda_online:\n",
        "    print(dado_de_usuario['cidade'])"
      ]
    },
    {
      "cell_type": "markdown",
      "metadata": {
        "id": "EznQsI0y5LEX"
      },
      "source": [
        "Extrair os valores da chave tempo_gasto_site"
      ]
    },
    {
      "cell_type": "code",
      "execution_count": 10,
      "metadata": {
        "id": "ElR3a-2C5LEY",
        "colab": {
          "base_uri": "https://localhost:8080/"
        },
        "outputId": "57c5afc1-6c0d-4dc9-9d01-f08c4a5412e0"
      },
      "outputs": [
        {
          "output_type": "stream",
          "name": "stdout",
          "text": [
            "68.95\n",
            "\n",
            "\n",
            "80.23\n",
            "\n",
            "\n",
            "69.47\n",
            "\n",
            "\n",
            "68.37\n",
            "\n",
            "\n",
            "88.91\n",
            "\n",
            "\n",
            "None\n",
            "\n",
            "\n",
            "74.53\n",
            "\n",
            "\n",
            "69.88\n",
            "\n",
            "\n"
          ]
        }
      ],
      "source": [
        "## Extrair os valores da chave tempo_gasto_site.\n",
        "\n",
        "for dado_de_usuario in propaganda_online:\n",
        "    print(dado_de_usuario['tempo_gasto_site'])\n",
        "    print('\\n')"
      ]
    },
    {
      "cell_type": "markdown",
      "metadata": {
        "id": "o23o7p1g5LEY"
      },
      "source": [
        "Extrair os valores da chave idade"
      ]
    },
    {
      "cell_type": "code",
      "execution_count": 11,
      "metadata": {
        "id": "1Pn2xuO45LEY",
        "colab": {
          "base_uri": "https://localhost:8080/"
        },
        "outputId": "686f8a1d-16b6-4bac-bf69-b06f71a762a4"
      },
      "outputs": [
        {
          "output_type": "stream",
          "name": "stdout",
          "text": [
            "35\n",
            "\n",
            "\n",
            "31\n",
            "\n",
            "\n",
            "26\n",
            "\n",
            "\n",
            "35\n",
            "\n",
            "\n",
            "33\n",
            "\n",
            "\n",
            "48\n",
            "\n",
            "\n",
            "30\n",
            "\n",
            "\n",
            "20\n",
            "\n",
            "\n"
          ]
        }
      ],
      "source": [
        "## Extrair os valores da chave idade.\n",
        "\n",
        "for dado_de_usuario in propaganda_online:\n",
        "    print(dado_de_usuario['idade'])\n",
        "    print('\\n')"
      ]
    },
    {
      "cell_type": "markdown",
      "metadata": {
        "id": "SAMpg_975LEY"
      },
      "source": [
        "## 2\\. Estrutura condicional if / else"
      ]
    },
    {
      "cell_type": "markdown",
      "metadata": {
        "id": "QciRcGi35LEY"
      },
      "source": [
        "2.1. Utilize a estrutura if/else para imprimir a cidade dos usuários que gastaram mais de 100 horas de tempo na internet\n",
        "\n",
        "Dica: Após a iteração dos elementos da lista (Através da estrutura condicional FOR),  utilize a estrutura if/else para criar a condição dos valores da chave `tempo_gasto_internet`"
      ]
    },
    {
      "cell_type": "code",
      "execution_count": 13,
      "metadata": {
        "id": "iJRwSe9y5LEY",
        "colab": {
          "base_uri": "https://localhost:8080/"
        },
        "outputId": "48ef79a0-5698-452c-e125-2f613fd14453"
      },
      "outputs": [
        {
          "output_type": "stream",
          "name": "stdout",
          "text": [
            "Wrightburgh\n",
            "West Jodi\n",
            "Davidton\n",
            "South Manuel\n",
            "Brandonstad\n",
            "Port Jefferybury\n",
            "West Colin\n",
            "Ramirezton\n"
          ]
        }
      ],
      "source": [
        "## Solução: Utilize a estrutura if/else para imprimir a cidade dos usuários que gastaram mais de 100 horas de tempo na internet\n",
        "for dado_de_usuario in propaganda_online:\n",
        "   if dado_de_usuario['tempo_gasto_internet'] > 100:\n",
        "    print(dado_de_usuario['cidade'])"
      ]
    },
    {
      "cell_type": "markdown",
      "metadata": {
        "id": "Iua9_lQo5LEY"
      },
      "source": [
        "## 3\\. Estrutura condicional try / except"
      ]
    },
    {
      "cell_type": "markdown",
      "metadata": {
        "id": "F7Vs25bq5LEY"
      },
      "source": [
        "3.1. Utilize a estrutura try/except para imprimir as cidades dos usuários que passaram mais de 70 segundos no site.\n",
        "\n",
        "Dica: Realize o tratamento de exceções dentro da execução da iteração dos elementos da lista"
      ]
    },
    {
      "cell_type": "code",
      "execution_count": 21,
      "metadata": {
        "id": "HJU_zItJ5LEZ",
        "colab": {
          "base_uri": "https://localhost:8080/"
        },
        "outputId": "887730d7-5132-4b64-a2c2-b195671adc40"
      },
      "outputs": [
        {
          "output_type": "stream",
          "name": "stdout",
          "text": [
            "West Jodi\n",
            "Brandonstad\n",
            "Erro: O tempo gasto no site não está definido\n",
            "West Colin\n"
          ]
        }
      ],
      "source": [
        "## Solução : Utilize a estrutura try/except para imprimir as cidades dos usuários que passaram mais de 70 segundos no site.\n",
        "propaganda_online = [\n",
        "  {'tempo_gasto_site': 68.95, 'idade': 35, 'renda_area': 61833.90, 'tempo_gasto_internet': 256.09, 'cidade': 'Wrightburgh', 'pais': 'Tunisia', 'clicou_no_ad': 0},\n",
        "  {'tempo_gasto_site': 80.23, 'idade': 31, 'renda_area': 68441.85, 'tempo_gasto_internet': 193.77, 'cidade': 'West Jodi', 'pais': 'Nauru', 'clicou_no_ad': 0},\n",
        "  {'tempo_gasto_site': 69.47, 'idade': 26, 'renda_area': 59785.94, 'tempo_gasto_internet': 236.50, 'cidade': 'Davidton', 'pais': 'San Marino', 'clicou_no_ad': 0},\n",
        "  {'tempo_gasto_site': 68.37, 'idade': 35, 'renda_area': 73889.99, 'tempo_gasto_internet': 225.58, 'cidade': 'South Manuel', 'pais': 'Iceland', 'clicou_no_ad': 0},\n",
        "  {'tempo_gasto_site': 88.91, 'idade': 33, 'renda_area': 53852.85, 'tempo_gasto_internet': 208.36, 'cidade': 'Brandonstad', 'pais': 'Myanmar', 'clicou_no_ad': 0},\n",
        "  {'tempo_gasto_site': None, 'idade': 48, 'renda_area': 24593.33, 'tempo_gasto_internet': 131.76, 'cidade': 'Port Jefferybury', 'pais': 'Australia', 'clicou_no_ad': 1},\n",
        "  {'tempo_gasto_site': 74.53, 'idade': 30, 'renda_area': 68862.00, 'tempo_gasto_internet': 221.51, 'cidade': 'West Colin', 'pais': 'Grenada'},\n",
        "  {'tempo_gasto_site': 69.88, 'idade': 20, 'renda_area': 55642.32, 'tempo_gasto_internet': 183.82, 'cidade': 'Ramirezton', 'pais': 'Ghana', 'clicou_no_ad': 0}\n",
        "]\n",
        "\n",
        "for dado_de_usuario in propaganda_online:\n",
        "    try:\n",
        "        if dado_de_usuario['tempo_gasto_site'] > 70:\n",
        "            print(dado_de_usuario['cidade'])\n",
        "    except TypeError:\n",
        "        print('Erro: O tempo gasto no site não está definido')\n",
        "    except KeyError:\n",
        "        print('Valor inválido.')\n",
        ""
      ]
    },
    {
      "cell_type": "markdown",
      "metadata": {
        "id": "zMN1Q3jdwoJm"
      },
      "source": [
        "---"
      ]
    },
    {
      "cell_type": "markdown",
      "metadata": {
        "id": "4_L-WULHAesN"
      },
      "source": [
        "---"
      ]
    }
  ],
  "metadata": {
    "colab": {
      "provenance": []
    },
    "kernelspec": {
      "display_name": "Python 3 (ipykernel)",
      "language": "python",
      "name": "python3"
    },
    "language_info": {
      "codemirror_mode": {
        "name": "ipython",
        "version": 3
      },
      "file_extension": ".py",
      "mimetype": "text/x-python",
      "name": "python",
      "nbconvert_exporter": "python",
      "pygments_lexer": "ipython3",
      "version": "3.9.7"
    }
  },
  "nbformat": 4,
  "nbformat_minor": 0
}