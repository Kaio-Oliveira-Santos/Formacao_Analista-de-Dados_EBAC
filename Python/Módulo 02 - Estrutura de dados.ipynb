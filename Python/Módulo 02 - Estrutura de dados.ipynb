{
  "nbformat": 4,
  "nbformat_minor": 0,
  "metadata": {
    "colab": {
      "provenance": [],
      "toc_visible": true
    },
    "kernelspec": {
      "name": "python3",
      "display_name": "Python 3"
    }
  },
  "cells": [
    {
      "cell_type": "markdown",
      "metadata": {
        "id": "KJqp9AANOCtf"
      },
      "source": [
        "<img src=\"https://raw.githubusercontent.com/andre-marcos-perez/ebac-course-utils/main/media/logo/newebac_logo_black_half.png\" alt=\"ebac-logo\">\n",
        "\n",
        "---\n",
        "\n",
        "# **Módulo** | Python: Estruturas de Dados\n",
        "Caderno de **Exercícios**<br>\n",
        "Professor [André Perez](https://www.linkedin.com/in/andremarcosperez/)\n",
        "\n",
        "---"
      ]
    },
    {
      "cell_type": "markdown",
      "metadata": {
        "id": "d9jDtUbDOE1-"
      },
      "source": [
        "# **Tópicos**\n",
        "\n",
        "<ol type=\"1\">\n",
        "  <li>Listas;</li>\n",
        "  <li>Conjuntos;</li>\n",
        "  <li>Dicionários.</li>\n",
        "</ol>"
      ]
    },
    {
      "cell_type": "markdown",
      "metadata": {
        "id": "SmoHgt-lwkpD"
      },
      "source": [
        "---"
      ]
    },
    {
      "cell_type": "markdown",
      "metadata": {
        "id": "GABI6OW8OfQ2"
      },
      "source": [
        "# **Exercícios**"
      ]
    },
    {
      "cell_type": "markdown",
      "metadata": {
        "id": "muD1vxozykSC"
      },
      "source": [
        "## 1\\. Listas"
      ]
    },
    {
      "cell_type": "markdown",
      "metadata": {
        "id": "ahrFfCuBxJKs"
      },
      "source": [
        "Criei uma lista chamada `filmes` com o nome dos 10 primeiros filmes mais bem avaliados no site no [IMDB](https://www.imdb.com/chart/top/). Imprima o resultado."
      ]
    },
    {
      "cell_type": "code",
      "metadata": {
        "id": "OgL6Hv3bzOHI"
      },
      "source": [
        "filmes = [...]"
      ],
      "execution_count": null,
      "outputs": []
    },
    {
      "cell_type": "code",
      "source": [
        "filmes = [\n",
        "    \"Um Sonho de Liberdade\",\n",
        "    \"O Poderoso Chefão\",\n",
        "    \"Batman: O Cavaleiro das Trevas\",\n",
        "    \"O Poderoso Chefão: Parte II\",\n",
        "    \"Pulp Fiction: Tempo de Violência\",\n",
        "    \"Três Homens em Conflito\",\n",
        "    \"O Senhor dos Anéis: O Retorno do Rei\",\n",
        "    \"A Lista de Schindler\",\n",
        "    \"12 Homens e uma Sentença\",\n",
        "    \"Clube da Luta\"\n",
        "]\n",
        "print(filmes)"
      ],
      "metadata": {
        "colab": {
          "base_uri": "https://localhost:8080/"
        },
        "id": "1vcOO894NO-I",
        "outputId": "03495455-0a96-47a4-df8f-303f2ea15c9a"
      },
      "execution_count": 2,
      "outputs": [
        {
          "output_type": "stream",
          "name": "stdout",
          "text": [
            "['Um Sonho de Liberdade', 'O Poderoso Chefão', 'Batman: O Cavaleiro das Trevas', 'O Poderoso Chefão: Parte II', 'Pulp Fiction: Tempo de Violência', 'Três Homens em Conflito', 'O Senhor dos Anéis: O Retorno do Rei', 'A Lista de Schindler', '12 Homens e uma Sentença', 'Clube da Luta']\n"
          ]
        }
      ]
    },
    {
      "cell_type": "markdown",
      "metadata": {
        "id": "KI9zQRT2xa7m"
      },
      "source": [
        "Simule a movimentação do *ranking*. Utilize os métodos `insert` e `pop` para trocar a posição do primeiro e do segundo filme da lista. Imprima o resultado.\n",
        "\n"
      ]
    },
    {
      "cell_type": "code",
      "source": [
        "filmes = [\n",
        "    \"Um Sonho de Liberdade\",\n",
        "    \"O Poderoso Chefão\",\n",
        "    \"Batman: O Cavaleiro das Trevas\",\n",
        "    \"O Poderoso Chefão: Parte II\",\n",
        "    \"Pulp Fiction: Tempo de Violência\",\n",
        "    \"Três Homens em Conflito\",\n",
        "    \"O Senhor dos Anéis: O Retorno do Rei\",\n",
        "    \"A Lista de Schindler\",\n",
        "    \"12 Homens e uma Sentença\",\n",
        "    \"Clube da Luta\"\n",
        "]\n",
        "primeiro_filme = filmes.pop(0)\n",
        "segundo_filme = filmes.pop(0)\n",
        "\n",
        "filmes.insert(0, segundo_filme)\n",
        "filmes.insert(1, primeiro_filme)\n",
        "\n",
        "print(filmes)\n"
      ],
      "metadata": {
        "colab": {
          "base_uri": "https://localhost:8080/"
        },
        "id": "8kCvC-X7OQ27",
        "outputId": "e4f87c7c-5bc4-4bf0-e748-f764638a1b30"
      },
      "execution_count": 14,
      "outputs": [
        {
          "output_type": "stream",
          "name": "stdout",
          "text": [
            "['O Poderoso Chefão', 'Um Sonho de Liberdade', 'Batman: O Cavaleiro das Trevas', 'O Poderoso Chefão: Parte II', 'Pulp Fiction: Tempo de Violência', 'Três Homens em Conflito', 'O Senhor dos Anéis: O Retorno do Rei', 'A Lista de Schindler', '12 Homens e uma Sentença', 'Clube da Luta']\n"
          ]
        }
      ]
    },
    {
      "cell_type": "markdown",
      "metadata": {
        "id": "zMN1Q3jdwoJm"
      },
      "source": [
        "---"
      ]
    },
    {
      "cell_type": "markdown",
      "metadata": {
        "id": "lxa5L6uF0ZJE"
      },
      "source": [
        "## 2\\. Conjuntos"
      ]
    },
    {
      "cell_type": "markdown",
      "metadata": {
        "id": "9JahS2Kj0d5u"
      },
      "source": [
        "Aconteceu um erro no seu *ranking*. Simule a duplicação dos três últimos filmes da lista. Imprima o resultado."
      ]
    },
    {
      "cell_type": "code",
      "metadata": {
        "id": "BnjnLBNC6PGe",
        "colab": {
          "base_uri": "https://localhost:8080/"
        },
        "outputId": "8dfd3b0c-b826-4693-bf09-153723e58b2d"
      },
      "source": [
        "ultimos_filmes = filmes[7:10]\n",
        "filmes.extend(ultimos_filmes)\n",
        "print(filmes)"
      ],
      "execution_count": 19,
      "outputs": [
        {
          "output_type": "stream",
          "name": "stdout",
          "text": [
            "['O Poderoso Chefão', 'Um Sonho de Liberdade', 'Batman: O Cavaleiro das Trevas', 'O Poderoso Chefão: Parte II', 'Pulp Fiction: Tempo de Violência', 'Três Homens em Conflito', 'O Senhor dos Anéis: O Retorno do Rei', 'A Lista de Schindler', '12 Homens e uma Sentença', 'Clube da Luta', 'A Lista de Schindler', '12 Homens e uma Sentença', 'Clube da Luta']\n"
          ]
        }
      ]
    },
    {
      "cell_type": "markdown",
      "metadata": {
        "id": "suxTfCJB6ZiX"
      },
      "source": [
        "Utiliza a conversão `set` e `list` para remover os valores duplicados. Imprima o resultado."
      ]
    },
    {
      "cell_type": "code",
      "metadata": {
        "id": "ZvUGN-0n6joM",
        "colab": {
          "base_uri": "https://localhost:8080/"
        },
        "outputId": "208d4d2f-1a66-47a8-ac45-968e209f9973"
      },
      "source": [
        "filmes_correcao = (list(set(filmes)))\n",
        "print(filmes_correcao)"
      ],
      "execution_count": 22,
      "outputs": [
        {
          "output_type": "stream",
          "name": "stdout",
          "text": [
            "['Clube da Luta', 'Pulp Fiction: Tempo de Violência', 'O Poderoso Chefão', 'Um Sonho de Liberdade', '12 Homens e uma Sentença', 'O Senhor dos Anéis: O Retorno do Rei', 'Batman: O Cavaleiro das Trevas', 'O Poderoso Chefão: Parte II', 'Três Homens em Conflito', 'A Lista de Schindler']\n"
          ]
        }
      ]
    },
    {
      "cell_type": "markdown",
      "metadata": {
        "id": "ShkK35eQ6pAM"
      },
      "source": [
        "---"
      ]
    },
    {
      "cell_type": "markdown",
      "metadata": {
        "id": "EL_FzmxL6rTv"
      },
      "source": [
        "## 3\\. Dicionários"
      ]
    },
    {
      "cell_type": "markdown",
      "metadata": {
        "id": "i8l0gFqRCpfT"
      },
      "source": [
        "Repita os exercícios da parte 1 (listas). Os elementos da lista `filmes` devem ser dicionários no seguinte formato: `{'nome': <nome-do-filme>, 'ano': <ano do filme>, 'sinopse': <sinopse do filme>}`."
      ]
    },
    {
      "cell_type": "code",
      "metadata": {
        "id": "tu6MSFwGDnHv",
        "colab": {
          "base_uri": "https://localhost:8080/"
        },
        "outputId": "38c050e2-8e3f-4963-8479-14ac240ba0c3"
      },
      "source": [
        "# Criei uma lista chamada filmes com o nome dos 10 primeiros filmes mais bem avaliados no site no IMDB. Imprima o resultado.\n",
        "filmes = [\n",
        "    {'nome': 'Um Sonho de Liberdade', 'ano': 1994, 'sinopse': 'Um homem inocente é preso e busca a liberdade.'},\n",
        "    {'nome': 'O Poderoso Chefão', 'ano': 1972, 'sinopse': 'Uma saga de máfia e poder.'},\n",
        "    {'nome': 'Batman: O Cavaleiro das Trevas', 'ano': 2008, 'sinopse': 'O Cavaleiro das Trevas enfrenta o Coringa.'},\n",
        "    {'nome': 'O Poderoso Chefão: Parte II', 'ano': 1974, 'sinopse': 'A continuação da saga da máfia.'},\n",
        "    {'nome': 'Pulp Fiction: Tempo de Violência', 'ano': 1994, 'sinopse': 'Histórias interligadas de crime.'},\n",
        "    {'nome': 'Três Homens em Conflito', 'ano': 1966, 'sinopse': 'Confronto no Velho Oeste.'},\n",
        "    {'nome': 'O Senhor dos Anéis: O Retorno do Rei', 'ano': 2003, 'sinopse': 'O final da trilogia do Anel.'},\n",
        "    {'nome': 'A Lista de Schindler', 'ano': 1993, 'sinopse': 'Um empresário salva judeus do Holocausto.'},\n",
        "    {'nome': '12 Homens e uma Sentença', 'ano': 1957, 'sinopse': 'Deliberação de um júri sobre um assassinato.'},\n",
        "    {'nome': 'Clube da Luta', 'ano': 1999, 'sinopse': 'Um insônia cria um clube de luta secreto.'}\n",
        "]\n",
        "print(filmes)"
      ],
      "execution_count": 23,
      "outputs": [
        {
          "output_type": "stream",
          "name": "stdout",
          "text": [
            "[{'nome': 'Um Sonho de Liberdade', 'ano': 1994, 'sinopse': 'Um homem inocente é preso e busca a liberdade.'}, {'nome': 'O Poderoso Chefão', 'ano': 1972, 'sinopse': 'Uma saga de máfia e poder.'}, {'nome': 'Batman: O Cavaleiro das Trevas', 'ano': 2008, 'sinopse': 'O Cavaleiro das Trevas enfrenta o Coringa.'}, {'nome': 'O Poderoso Chefão: Parte II', 'ano': 1974, 'sinopse': 'A continuação da saga da máfia.'}, {'nome': 'Pulp Fiction: Tempo de Violência', 'ano': 1994, 'sinopse': 'Histórias interligadas de crime.'}, {'nome': 'Três Homens em Conflito', 'ano': 1966, 'sinopse': 'Confronto no Velho Oeste.'}, {'nome': 'O Senhor dos Anéis: O Retorno do Rei', 'ano': 2003, 'sinopse': 'O final da trilogia do Anel.'}, {'nome': 'A Lista de Schindler', 'ano': 1993, 'sinopse': 'Um empresário salva judeus do Holocausto.'}, {'nome': '12 Homens e uma Sentença', 'ano': 1957, 'sinopse': 'Deliberação de um júri sobre um assassinato.'}, {'nome': 'Clube da Luta', 'ano': 1999, 'sinopse': 'Um insônia cria um clube de luta secreto.'}]\n"
          ]
        }
      ]
    },
    {
      "cell_type": "code",
      "source": [
        "# Simule a movimentação do ranking. Utilize os métodos insert e pop para trocar a posição do primeiro e do segundo filme da lista. Imprima o resultado.\n",
        "primeiro_filme = filmes.pop(0)\n",
        "segundo_filme = filmes.pop(0)\n",
        "\n",
        "filmes.insert(0, segundo_filme)\n",
        "filmes.insert(1, primeiro_filme)\n",
        "\n",
        "print(filmes)"
      ],
      "metadata": {
        "colab": {
          "base_uri": "https://localhost:8080/"
        },
        "id": "bm0Ew_xSQ615",
        "outputId": "5b454159-6932-4f40-e586-81a195619cc4"
      },
      "execution_count": 25,
      "outputs": [
        {
          "output_type": "stream",
          "name": "stdout",
          "text": [
            "[{'nome': 'Um Sonho de Liberdade', 'ano': 1994, 'sinopse': 'Um homem inocente é preso e busca a liberdade.'}, {'nome': 'O Poderoso Chefão', 'ano': 1972, 'sinopse': 'Uma saga de máfia e poder.'}, {'nome': 'Batman: O Cavaleiro das Trevas', 'ano': 2008, 'sinopse': 'O Cavaleiro das Trevas enfrenta o Coringa.'}, {'nome': 'O Poderoso Chefão: Parte II', 'ano': 1974, 'sinopse': 'A continuação da saga da máfia.'}, {'nome': 'Pulp Fiction: Tempo de Violência', 'ano': 1994, 'sinopse': 'Histórias interligadas de crime.'}, {'nome': 'Três Homens em Conflito', 'ano': 1966, 'sinopse': 'Confronto no Velho Oeste.'}, {'nome': 'O Senhor dos Anéis: O Retorno do Rei', 'ano': 2003, 'sinopse': 'O final da trilogia do Anel.'}, {'nome': 'A Lista de Schindler', 'ano': 1993, 'sinopse': 'Um empresário salva judeus do Holocausto.'}, {'nome': '12 Homens e uma Sentença', 'ano': 1957, 'sinopse': 'Deliberação de um júri sobre um assassinato.'}, {'nome': 'Clube da Luta', 'ano': 1999, 'sinopse': 'Um insônia cria um clube de luta secreto.'}]\n"
          ]
        }
      ]
    },
    {
      "cell_type": "code",
      "source": [],
      "metadata": {
        "id": "IjMo2-NPQ8cG"
      },
      "execution_count": null,
      "outputs": []
    }
  ]
}