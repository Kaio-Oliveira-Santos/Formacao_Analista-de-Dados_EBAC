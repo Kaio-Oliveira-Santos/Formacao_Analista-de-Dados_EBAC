{
  "nbformat": 4,
  "nbformat_minor": 0,
  "metadata": {
    "colab": {
      "provenance": []
    },
    "kernelspec": {
      "name": "python3",
      "display_name": "Python 3"
    },
    "language_info": {
      "name": "python"
    }
  },
  "cells": [
    {
      "cell_type": "code",
      "execution_count": null,
      "metadata": {
        "colab": {
          "base_uri": "https://localhost:8080/",
          "height": 106
        },
        "id": "eDeAqifn0K7D",
        "outputId": "66715691-cc41-4f54-88f8-6967a054db7d"
      },
      "outputs": [
        {
          "output_type": "error",
          "ename": "SyntaxError",
          "evalue": "invalid syntax (<ipython-input-1-cd1f0bc24c67>, line 1)",
          "traceback": [
            "\u001b[0;36m  File \u001b[0;32m\"<ipython-input-1-cd1f0bc24c67>\"\u001b[0;36m, line \u001b[0;32m1\u001b[0m\n\u001b[0;31m    from calculadora_basica import\u001b[0m\n\u001b[0m                                   ^\u001b[0m\n\u001b[0;31mSyntaxError\u001b[0m\u001b[0;31m:\u001b[0m invalid syntax\n"
          ]
        }
      ],
      "source": [
        "\n",
        "# Criando uma ideia de interface.\n",
        "\n",
        "def menu():\n",
        "  print(\"\\n ===== CALCULADORA - DESAFIO EBAC =====\")\n",
        "  print(\"1. Soma\")\n",
        "  print(\"2. Subtração\")\n",
        "  print(\"3. Multiplicação\")\n",
        "  print(\"4. Divisão\")\n",
        "  print(\"5. Potenciação\")\n",
        "  print(\"6. Raiz quadrada\")\n",
        "  print(\"7. Logaritmo\")\n",
        "  print(\"0. Sair\")\n",
        "\n",
        "# Criando a lógica da execução.\n",
        "\n",
        "def operacoes():\n",
        "  while True:\n",
        "    menu()\n",
        "    escolha = input(\"Escolha uma operação (0-7): \")\n",
        "\n",
        "    try:\n",
        "      if escolha == \"0\":\n",
        "        print(\"Encerrando a calculadora. Até logo!\")\n",
        "        break\n",
        "      elif escolha in [\"1\", \"2\", \"3\", \"4\", \"5\"]:\n",
        "        a = float(input(\"Digite o primeiro número: \"))\n",
        "        b = float(input(\"Digite o segundo número: \"))\n",
        "\n",
        "        if escolha == \"1\":\n",
        "          print(\"Resultado: \", calculadora_basica.py.somar())\n",
        "        elif escolha == \"2\":\n",
        "          resultado = a - b\n",
        "        elif escolha == \"3\":\n",
        "\n"
      ]
    }
  ]
}